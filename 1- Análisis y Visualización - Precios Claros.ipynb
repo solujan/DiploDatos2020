{
 "cells": [
  {
   "cell_type": "markdown",
   "metadata": {
    "colab_type": "text",
    "id": "zIVz-gqjhYEX"
   },
   "source": [
    "<center>\n",
    "<h4>Diplomatura en CDAAyA 2019 - FaMAF - UNC</h4>\n",
    "<h1>¿Caro o Barato? Análisis de Precios de Almacen en un Contexto Inflacionario</h1>\n",
    "<h3>Análisis y Visualización</h3>\n",
    "</center>\n",
    "</left>\n",
    "<h4>Sofía Luján y Julieta Bergamasco</h4>\n",
    "</left>"
   ]
  },
  {
   "cell_type": "markdown",
   "metadata": {
    "colab_type": "text",
    "id": "J49PdcbnmETK"
   },
   "source": [
    "__[Proyecto para Mentoría](https://sites.google.com/view/mentorias2020-diplodatos/caro-o-barato-an%C3%A1lisis-de-precios-de-almac%C3%A9n-en-un-contexto-inflacionari?authuser=0)__\n"
   ]
  },
  {
   "cell_type": "markdown",
   "metadata": {
    "colab_type": "text",
    "id": "3iNtBK3Al7dA"
   },
   "source": [
    "# Introducción\n",
    "\n",
    "En la siguiente notebook, realizaremos la carga del **dataset** que utilizarán para el práctico de Análisis y Visualización. Para ello, comenzaremos con las importaciones pertinentes.<br>\n",
    "Posteriormente, se detallarán las consignas a seguir para la elaboración del informe.\n",
    "\n",
    "Recuerden que el **objetivo final de este proyecto** es encontrar una forma de identificar si un producto está caro o barato, no en una sucursal puntual, sino dada una región o ciudad."
   ]
  },
  {
   "cell_type": "markdown",
   "metadata": {
    "colab_type": "text",
    "id": "xhmn4zO6nPj9"
   },
   "source": [
    "# Importaciones y Lectura de Datos"
   ]
  },
  {
   "cell_type": "code",
   "execution_count": 1,
   "metadata": {
    "colab": {},
    "colab_type": "code",
    "id": "myKdg-pYW5jW"
   },
   "outputs": [],
   "source": [
    "import pandas as pd\n",
    "from io import StringIO\n",
    "import plotly.express as px\n",
    "import re\n",
    "import numpy as np\n",
    "import seaborn as sns"
   ]
  },
  {
   "cell_type": "code",
   "execution_count": 10,
   "metadata": {
    "colab": {},
    "colab_type": "code",
    "id": "RTEAEWchXCtD",
    "scrolled": true
   },
   "outputs": [],
   "source": [
    "file_name = 'precio_sucursal_producto.pkl'\n",
    "precio_sucursal_producto = pd.read_pickle(file_name)"
   ]
  },
  {
   "cell_type": "markdown",
   "metadata": {
    "colab_type": "text",
    "id": "xPmAKRx4mVU9"
   },
   "source": [
    "# Consigna para Informe de Análisis y Visualización"
   ]
  },
  {
   "cell_type": "markdown",
   "metadata": {
    "colab_type": "text",
    "id": "UuKW7UeEmVU-"
   },
   "source": [
    "## 1. General\n",
    "\n",
    "Se propone la **elaboración de un informe** que deberá entregarse en formato html o pdf y deberá apuntar a un público técnico, pero sin conocimientos específicos en el tema.<br>\n",
    "La estructura del mismo puede seguir un esquema de secciones como el siguiente: **Introducción - Presentación del Dataset - Variables más relevantes o de interés - Respuestas a preguntas disparadoras - Relaciones interesantes entre variables - Principales conclusiones y posibilidad de futuros aportes**. No hay límites respecto a la extensión, pero se valorará el poder de síntesis y de comunicación, así como el uso de las herramientas pertinentes para comunicar.\n",
    "Pueden tomar, a modo de ejemplo, __[esta publicación de Open Data](http://blog.opendatacordoba.org/estudio-sobre-el-aumento-de-precios-en-las-gondolas-entre-abril-y-mayo-del-2018/)__. *(Notar que el objetivo de este análisis es diferente al propuesto en este proyecto)*"
   ]
  },
  {
   "cell_type": "markdown",
   "metadata": {
    "colab_type": "text",
    "id": "abfT7BlkmVU_"
   },
   "source": [
    "## 2. Análisis Estadístico de Variables\n",
    "\n",
    "Se propone que realicen un análisis estadístico riguroso de variables que seleccionen por ser de su interés o porque crean que son relevantes (entre 2 y 4), dentro de las cuales tiene que estar el precio. Deberán responder preguntas como:\n",
    "- Qué **tipo de variable** es cada una?\n",
    "- Existen **outliers** en las variables seleccionadas?\n",
    "- Hay **valores faltantes**? Qué decisión tomarán al respecto en esta instancia de análisis? Es mejor descartarlos o completarlos con un valor particular?\n",
    "- Cómo es la **distribución** de las variables en el dataset? Se distribuyen de manera normal? Qué implicancias tiene esto?\n",
    "- Cómo es la **frecuencia** de las variables categóricas que seleccionaron?\n",
    "- Cómo es la **distribución de precios condicionada** a otra variable?\n",
    "\n",
    "En caso de calcular estadísticos, explicar por qué lo hicieron y su significado. Utilizar los gráficos apropiados para mostrar el análisis realizado.<br>\n",
    "Además:\n",
    "- Cuáles son las **características con más datos faltantes**?\n",
    "- Entre qué variables existe más **correlación**?\n",
    "- Analizar la dispersión de precios de un producto en todas las sucursales.\n",
    "\n",
    "Utilizar gráficos que permitan visualizar de un modo simple las conclusiones."
   ]
  },
  {
   "cell_type": "markdown",
   "metadata": {
    "colab_type": "text",
    "id": "oyRlhwprmVVB"
   },
   "source": [
    "## 3. Consignas Disparadoras\n",
    "A continuación se presenta una serie de ***consignas disparadoras***, a modo de ayuda para encaminar el análisis y la visualización de los datos. Algunas de ellas deberán responderlas de manera obligatoria.\n",
    "\n",
    "### 3.1 De Respuesta Obligatoria\n",
    "Elegir un producto representativo (el que quieran, pero tiene que ser exactamente el mismo) que se repita para todas las fechas y se encuentre en todas las provincias. Si no hay alguno que cumpla esta condición, entonces que se encuentre en todas las regiones. Este será nuestro ***bien numerario*** para reexpresar los precios en términos relativos dentro de cada fecha.\n",
    "\n",
    "Crear una nueva columna con el ***precio relativo*** en términos del bien elegido, por fecha y provincia (o región en su defecto). Es decir, para una fecha y provincia (o región), el precio de cualquier producto ahora quedará expresado en términos del producto elegido, haciendo Pi/PBienNumerario.\n",
    "\n",
    "Lo que estamos haciendo acá es, básicamente, expresar el valor de los productos en términos de un único bien. Por ejemplo, si eligieron \"Arroz Doble Carolina Dos Hermanos 1Kg\", el precio relativo de \"Cerveza Quilmes 1L\" nos dirá cuántos kg de arroz son necesarios para comprar un litro de esa cerveza. Esto nos permite eliminar el factor inflación del análisis, ya que sabemos que los precios aumentan a cierto ritmo, pero no tenemos un índice semanal para deflactarlos (es decir, \"sacarles\" la inflalción).\n",
    "\n",
    "Hecho esto, **repetir el análisis estadístico del punto 2 utilizando precios relativos**.\n",
    "\n",
    "Además,\n",
    "\n",
    "- Cuál es la correlación entre precios nominales y relativos? Nos sirve de algo este dato?\n",
    "- Qué productos están en todas las provincias?\n",
    "- Cómo podemos medir la dispersión de precios? Encontrar una métrica y un elemento de visualización.\n",
    "- Qué tipos de productos se encuentran entre los más caros? En qué provincia se encuentran mayoritariamente?\n",
    "- Qué tipos de productos se encuentran entre los más baratos? En qué provincia se encuentran mayoritariamente?\n",
    "- Cómo se distribuyen los precios por provincia y cadena de proveedor?\n",
    "- Cuál es la región/provincia con mayor promedio de precios? Y de menor promedio?\n",
    "- Son estadísticamente distintas las medias de los precios entre dos regiones (las que elijan)?\n",
    "- Cuál es la probabilidad de que un precio en la provincia de Córdoba se encuentre por arriba de la media nacional?\n",
    "\n",
    "### 3.2 Adicionales\n",
    "A modo de ayuda, se propone un listado de preguntas adicionales. Podrán hacer uso de las mismas, aunque no es estrictamente necesario que las respondan. Algunas pueden resultarles de mayor interés que otras.\n",
    "\n",
    "- Se puede obtener de alguna forma la categoría de los productos a partir de sus nombres?\n",
    "- Son variables independientes las provincias y las cadenas de supermercados?\n",
    "- Qué productos no están en todas las provincias?\n",
    "- Qué marcas no están en todas las provincias?"
   ]
  },
  {
   "cell_type": "markdown",
   "metadata": {},
   "source": [
    "## Entregables\n",
    "Los entregables son la **notebook** con el análisis realizado y el **informe**.\n",
    "\n",
    "**Fecha de Entrega ~ 29/06**"
   ]
  },
  {
   "cell_type": "markdown",
   "metadata": {
    "colab_type": "text",
    "id": "JCfiJb6kmVVB"
   },
   "source": [
    "# Algo de Background: Precios Relativos"
   ]
  },
  {
   "cell_type": "markdown",
   "metadata": {},
   "source": [
    "Cuando hablamos de precios relativos, nos referimos a expresar el valor de los bienes en términos de otro bien dado. En el ejemplo planteado, todos los precios nos dirán cuántos kilos de arroz vale cada producto.\n",
    "\n",
    "Entonces, si reexpresamos los precios de este modo, ya no va a importar si el arroz aumentó nominalmente de precio en alguna fecha en particular, porque un kg de arroz siempre va a valer un kg de arroz. Lo mismo para cualquier producto, sólo que entre fecha y fecha sí puede variar cuántos kilos de arroz son necesarios para comprar determinado producto.\n",
    "\n",
    "Así, por ejemplo, hoy pueden ser necesarios 1.1 kg de arroz para comprar 1L de cerveza, pero la semana que viene se puede necesitar sólo 1kg. Este cambio en los precios relativos es lo que nos permite determinar que un producto se abarató en términos de otro. En particular para este caso, la cerveza se abarató en términos del arroz.\n",
    "\n",
    "Para mayor información, pueden consultar los siguientes links, en donde encontrarán los fundamentos:\n",
    "- http://economiaparatodos.net/importancia-de-los-precios-relativos-2/\n",
    "- https://guiasjuridicas.wolterskluwer.es/Content/Documento.aspx?params=H4sIAAAAAAAEAMtMSbF1jTAAASNTIzNztbLUouLM_DxbIwMDS0NDQ7BAZlqlS35ySGVBqm1aYk5xKgB3aYC7NQAAAA==WKE#:~:text=Se%20define%20un%20precio%20relativo,en%20t%C3%A9rminos%20de%20otro%20bien.&text=Matem%C3%A1ticamente%20hablando%2C%20un%20precio%20relativo,unidad%20adicional%20de%20otro%20bien."
   ]
  }
 ],
 "metadata": {
  "colab": {
   "collapsed_sections": [],
   "name": "0- Primera Aproximación - Precios Claros.ipynb",
   "provenance": [],
   "toc_visible": true
  },
  "kernelspec": {
   "display_name": "Python 3",
   "language": "python",
   "name": "python3"
  },
  "language_info": {
   "codemirror_mode": {
    "name": "ipython",
    "version": 3
   },
   "file_extension": ".py",
   "mimetype": "text/x-python",
   "name": "python",
   "nbconvert_exporter": "python",
   "pygments_lexer": "ipython3",
   "version": "3.6.4"
  }
 },
 "nbformat": 4,
 "nbformat_minor": 1
}
